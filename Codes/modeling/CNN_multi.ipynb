{
 "cells": [
  {
   "cell_type": "code",
   "execution_count": 1,
   "id": "5eaae20d",
   "metadata": {},
   "outputs": [],
   "source": [
    "import pandas as pd\n",
    "train_df = pd.read_csv('train_dataset2.csv')\n",
    "X_train_data = train_df.iloc[:, 1].values\n",
    "y_train = train_df.iloc[:, 2].values"
   ]
  },
  {
   "cell_type": "code",
   "execution_count": 2,
   "id": "ea8c5c88",
   "metadata": {},
   "outputs": [],
   "source": [
    "val_df = pd.read_csv('val_dataset2.csv')\n",
    "X_val_data = val_df.iloc[:, 1].values\n",
    "y_val = val_df.iloc[:, 2].values"
   ]
  },
  {
   "cell_type": "code",
   "execution_count": 3,
   "id": "043c3cf5",
   "metadata": {},
   "outputs": [],
   "source": [
    "test_df = pd.read_csv('test_dataset2.csv')\n",
    "X_test_data = test_df.iloc[:, 1].values\n",
    "y_test = test_df.iloc[:, 2].values"
   ]
  },
  {
   "cell_type": "code",
   "execution_count": 5,
   "id": "9fa2f3e4",
   "metadata": {},
   "outputs": [
    {
     "name": "stdout",
     "output_type": "stream",
     "text": [
      "[2866  605 1684  720]\n",
      "[405  86 238 102]\n",
      "[824 174 484 206]\n"
     ]
    }
   ],
   "source": [
    "import numpy as np\n",
    "print(np.bincount(y_train))\n",
    "print(np.bincount(y_val))\n",
    "print(np.bincount(y_test))"
   ]
  },
  {
   "cell_type": "code",
   "execution_count": 6,
   "id": "6c3322c3",
   "metadata": {},
   "outputs": [],
   "source": [
    "from konlpy.tag import Okt\n",
    "from tqdm import tqdm"
   ]
  },
  {
   "cell_type": "code",
   "execution_count": 7,
   "id": "22f1dcb5",
   "metadata": {},
   "outputs": [],
   "source": [
    "okt = Okt()"
   ]
  },
  {
   "cell_type": "code",
   "execution_count": 8,
   "id": "e8d1dc70",
   "metadata": {},
   "outputs": [
    {
     "name": "stderr",
     "output_type": "stream",
     "text": [
      "100%|██████████████████████████████████████████████████████████████████████████████| 5875/5875 [03:47<00:00, 25.87it/s]\n"
     ]
    }
   ],
   "source": [
    "X_train = []\n",
    "for sentence in tqdm(X_train_data):\n",
    "    tokenized_sentence = okt.morphs(sentence, stem=True) # 토큰화\n",
    "    X_train.append(tokenized_sentence)"
   ]
  },
  {
   "cell_type": "code",
   "execution_count": 9,
   "id": "b7b8ac63",
   "metadata": {},
   "outputs": [
    {
     "name": "stderr",
     "output_type": "stream",
     "text": [
      "100%|████████████████████████████████████████████████████████████████████████████████| 831/831 [00:29<00:00, 28.22it/s]\n"
     ]
    }
   ],
   "source": [
    "X_val = []\n",
    "for sentence in tqdm(X_val_data):\n",
    "    tokenized_sentence = okt.morphs(sentence, stem=True) # 토큰화\n",
    "    X_val.append(tokenized_sentence)"
   ]
  },
  {
   "cell_type": "code",
   "execution_count": 10,
   "id": "1fb77cbc",
   "metadata": {},
   "outputs": [
    {
     "name": "stderr",
     "output_type": "stream",
     "text": [
      "100%|██████████████████████████████████████████████████████████████████████████████| 1688/1688 [01:08<00:00, 24.77it/s]\n"
     ]
    }
   ],
   "source": [
    "X_test = []\n",
    "for sentence in tqdm(X_test_data):\n",
    "    tokenized_sentence = okt.morphs(sentence, stem=True) # 토큰화\n",
    "    X_test.append(tokenized_sentence)"
   ]
  },
  {
   "cell_type": "code",
   "execution_count": 12,
   "id": "a31b9e16",
   "metadata": {},
   "outputs": [],
   "source": [
    "from tensorflow.keras.preprocessing.text import Tokenizer\n",
    "from tensorflow.keras.preprocessing.sequence import pad_sequences"
   ]
  },
  {
   "cell_type": "code",
   "execution_count": 13,
   "id": "1c3adbf0",
   "metadata": {},
   "outputs": [],
   "source": [
    "tokenizer = Tokenizer()\n",
    "tokenizer.fit_on_texts(X_train)\n",
    "tokenizer.fit_on_texts(X_val)\n",
    "tokenizer.fit_on_texts(X_test)"
   ]
  },
  {
   "cell_type": "code",
   "execution_count": 14,
   "id": "0d50a83b",
   "metadata": {},
   "outputs": [],
   "source": [
    "X_train = tokenizer.texts_to_sequences(X_train)\n",
    "X_val = tokenizer.texts_to_sequences(X_val)\n",
    "X_test = tokenizer.texts_to_sequences(X_test)"
   ]
  },
  {
   "cell_type": "code",
   "execution_count": 15,
   "id": "b225a47e",
   "metadata": {},
   "outputs": [
    {
     "data": {
      "text/plain": [
       "18256"
      ]
     },
     "execution_count": 15,
     "metadata": {},
     "output_type": "execute_result"
    }
   ],
   "source": [
    "vocab_size = len(tokenizer.word_index)+1 # 단어의 수\n",
    "vocab_size"
   ]
  },
  {
   "cell_type": "code",
   "execution_count": 22,
   "id": "d9b52a6f",
   "metadata": {},
   "outputs": [
    {
     "name": "stdout",
     "output_type": "stream",
     "text": [
      "최대 길이 : 898\n",
      "평균 길이 : 206.52425531914895\n"
     ]
    }
   ],
   "source": [
    "print('최대 길이 :',max(len(review) for review in X_train))\n",
    "print('평균 길이 :',sum(map(len, X_train))/len(X_train))\n"
   ]
  },
  {
   "cell_type": "code",
   "execution_count": 23,
   "id": "103275b2",
   "metadata": {},
   "outputs": [
    {
     "name": "stdout",
     "output_type": "stream",
     "text": [
      "최대 길이 : 738\n",
      "평균 길이 : 202.46690734055355\n"
     ]
    }
   ],
   "source": [
    "print('최대 길이 :',max(len(review) for review in X_val))\n",
    "print('평균 길이 :',sum(map(len, X_val))/len(X_val))"
   ]
  },
  {
   "cell_type": "code",
   "execution_count": 16,
   "id": "09ddcb32",
   "metadata": {},
   "outputs": [],
   "source": [
    "X_train = pad_sequences(X_train, maxlen=700)\n",
    "X_val = pad_sequences(X_val, maxlen=700)\n",
    "X_test = pad_sequences(X_test, maxlen=700)"
   ]
  },
  {
   "cell_type": "code",
   "execution_count": 70,
   "id": "e2002a39",
   "metadata": {},
   "outputs": [
    {
     "name": "stdout",
     "output_type": "stream",
     "text": [
      "Epoch 1/10\n",
      "184/184 [==============================] - ETA: 0s - loss: 1.1844 - acc: 0.5031\n",
      "Epoch 00001: val_acc improved from -inf to 0.57040, saving model to multi_model_5.h5\n",
      "184/184 [==============================] - 246s 1s/step - loss: 1.1844 - acc: 0.5031 - val_loss: 1.0876 - val_acc: 0.5704\n",
      "Epoch 2/10\n",
      "184/184 [==============================] - ETA: 0s - loss: 1.0021 - acc: 0.6208\n",
      "Epoch 00002: val_acc improved from 0.57040 to 0.63658, saving model to multi_model_5.h5\n",
      "184/184 [==============================] - 311s 2s/step - loss: 1.0021 - acc: 0.6208 - val_loss: 0.9549 - val_acc: 0.6366\n",
      "Epoch 3/10\n",
      "184/184 [==============================] - ETA: 0s - loss: 0.7769 - acc: 0.7059\n",
      "Epoch 00003: val_acc did not improve from 0.63658\n",
      "184/184 [==============================] - 410s 2s/step - loss: 0.7769 - acc: 0.7059 - val_loss: 0.9434 - val_acc: 0.6294\n",
      "Epoch 4/10\n",
      "184/184 [==============================] - ETA: 0s - loss: 0.5675 - acc: 0.7837\n",
      "Epoch 00004: val_acc improved from 0.63658 to 0.65584, saving model to multi_model_5.h5\n",
      "184/184 [==============================] - 472s 3s/step - loss: 0.5675 - acc: 0.7837 - val_loss: 0.9289 - val_acc: 0.6558\n",
      "Epoch 5/10\n",
      "184/184 [==============================] - ETA: 0s - loss: 0.3888 - acc: 0.8655\n",
      "Epoch 00005: val_acc improved from 0.65584 to 0.68351, saving model to multi_model_5.h5\n",
      "184/184 [==============================] - 457s 2s/step - loss: 0.3888 - acc: 0.8655 - val_loss: 0.9927 - val_acc: 0.6835\n",
      "Epoch 6/10\n",
      "184/184 [==============================] - ETA: 0s - loss: 0.2654 - acc: 0.9217\n",
      "Epoch 00006: val_acc did not improve from 0.68351\n",
      "184/184 [==============================] - 468s 3s/step - loss: 0.2654 - acc: 0.9217 - val_loss: 1.0923 - val_acc: 0.6787\n",
      "Epoch 7/10\n",
      "184/184 [==============================] - ETA: 0s - loss: 0.2047 - acc: 0.9387\n",
      "Epoch 00007: val_acc did not improve from 0.68351\n",
      "184/184 [==============================] - 523s 3s/step - loss: 0.2047 - acc: 0.9387 - val_loss: 1.0700 - val_acc: 0.6811\n",
      "Epoch 00007: early stopping\n"
     ]
    }
   ],
   "source": [
    "embedding_dim = 512 # 임베딩 벡터의 차원\n",
    "dropout_ratio = 0.5 # 드롭아웃 비율\n",
    "num_filters = 256 # 커널의 수\n",
    "kernel_size = 5 # 커널의 크기\n",
    "hidden_units = 128 # 뉴런의 수\n",
    "\n",
    "model = Sequential()\n",
    "model.add(Embedding(vocab_size, embedding_dim))\n",
    "model.add(Dropout(dropout_ratio))\n",
    "model.add(Conv1D(num_filters, kernel_size, padding='valid', activation='relu'))\n",
    "model.add(GlobalMaxPooling1D())\n",
    "model.add(Dense(hidden_units, activation='relu'))\n",
    "model.add(Dropout(dropout_ratio))\n",
    "model.add(Dense(4, activation='softmax'))\n",
    "\n",
    "es = EarlyStopping(monitor='val_loss', mode='min', verbose=1, patience=3)\n",
    "mc = ModelCheckpoint('multi_model_5.h5', monitor='val_acc', mode='max', verbose=1, save_best_only=True)\n",
    "\n",
    "model.compile(optimizer='adam', loss='sparse_categorical_crossentropy', metrics=['acc'])\n",
    "history = model.fit(X_train, y_train, epochs=10, validation_data=(X_val, y_val), callbacks=[es, mc])"
   ]
  },
  {
   "cell_type": "code",
   "execution_count": 86,
   "id": "d73c3dbf",
   "metadata": {},
   "outputs": [
    {
     "data": {
      "image/png": "[encoded data removed]",
      "text/plain": [
       "<Figure size 576x576 with 2 Axes>"
      ]
     },
     "metadata": {
      "needs_background": "light"
     },
     "output_type": "display_data"
    }
   ],
   "source": [
    "import matplotlib.pyplot as plt\n",
    "\n",
    "acc = history.history['acc']\n",
    "val_acc = history.history['val_acc']\n",
    "\n",
    "loss = history.history['loss']\n",
    "val_loss = history.history['val_loss']\n",
    "\n",
    "plt.figure(figsize=(8, 8))\n",
    "plt.subplot(2, 1, 1)\n",
    "plt.plot(acc, label='Training Accuracy')\n",
    "plt.plot(val_acc, label='Validation Accuracy')\n",
    "plt.legend(loc='lower right')\n",
    "plt.ylabel('Accuracy')\n",
    "plt.ylim([min(plt.ylim()),1])\n",
    "plt.title('Training and Validation Accuracy')\n",
    "\n",
    "plt.subplot(2, 1, 2)\n",
    "plt.plot(loss, label='Training Loss')\n",
    "plt.plot(val_loss, label='Validation Loss')\n",
    "plt.legend(loc='upper right')\n",
    "plt.ylabel('Cross Entropy')\n",
    "plt.ylim([0,1.0])\n",
    "plt.title('Training and Validation Loss')\n",
    "plt.xlabel('epoch')\n",
    "plt.show()\n"
   ]
  },
  {
   "cell_type": "code",
   "execution_count": 73,
   "id": "f7d87979",
   "metadata": {},
   "outputs": [
    {
     "name": "stdout",
     "output_type": "stream",
     "text": [
      "53/53 [==============================] - 21s 393ms/step - loss: 0.8860 - acc: 0.5948\n",
      "\n",
      " 테스트 정확도: 0.5948\n"
     ]
    }
   ],
   "source": [
    "loaded_model = load_model('multi_model_5.h5')\n",
    "print(\"\\n 테스트 정확도: %.4f\" % (loaded_model.evaluate(X_test, y_test)[1]))"
   ]
  },
  {
   "cell_type": "code",
   "execution_count": 74,
   "id": "f095faba",
   "metadata": {},
   "outputs": [
    {
     "name": "stdout",
     "output_type": "stream",
     "text": [
      "Model: \"sequential_6\"\n",
      "_________________________________________________________________\n",
      "Layer (type)                 Output Shape              Param #   \n",
      "=================================================================\n",
      "embedding_6 (Embedding)      (None, None, 512)         9347072   \n",
      "_________________________________________________________________\n",
      "dropout_12 (Dropout)         (None, None, 512)         0         \n",
      "_________________________________________________________________\n",
      "conv1d_6 (Conv1D)            (None, None, 256)         655616    \n",
      "_________________________________________________________________\n",
      "global_max_pooling1d_6 (Glob (None, 256)               0         \n",
      "_________________________________________________________________\n",
      "dense_12 (Dense)             (None, 128)               32896     \n",
      "_________________________________________________________________\n",
      "dropout_13 (Dropout)         (None, 128)               0         \n",
      "_________________________________________________________________\n",
      "dense_13 (Dense)             (None, 4)                 516       \n",
      "=================================================================\n",
      "Total params: 10,036,100\n",
      "Trainable params: 10,036,100\n",
      "Non-trainable params: 0\n",
      "_________________________________________________________________\n"
     ]
    }
   ],
   "source": [
    "loaded_model.summary()"
   ]
  },
  {
   "cell_type": "code",
   "execution_count": 75,
   "id": "d4d20df5",
   "metadata": {},
   "outputs": [],
   "source": [
    "y_pred = np.argmax(loaded_model.predict(X_test), axis=-1)"
   ]
  },
  {
   "cell_type": "code",
   "execution_count": 76,
   "id": "e589b272",
   "metadata": {},
   "outputs": [
    {
     "data": {
      "text/plain": [
       "array([[712,  23,  53,  36],\n",
       "       [ 84,  46,  27,  17],\n",
       "       [120,  13, 331,  20],\n",
       "       [ 88,   3,  25,  90]], dtype=int64)"
      ]
     },
     "execution_count": 76,
     "metadata": {},
     "output_type": "execute_result"
    }
   ],
   "source": [
    "from sklearn.metrics import precision_score, recall_score, confusion_matrix, f1_score\n",
    "confusion_matrix(y_test, y_pred)"
   ]
  },
  {
   "cell_type": "code",
   "execution_count": 77,
   "id": "71d773a0",
   "metadata": {},
   "outputs": [
    {
     "data": {
      "image/png": "[encoded data removed]",
      "text/plain": [
       "<Figure size 432x288 with 1 Axes>"
      ]
     },
     "metadata": {
      "needs_background": "light"
     },
     "output_type": "display_data"
    }
   ],
   "source": [
    "from sklearn.metrics import confusion_matrix\n",
    "import seaborn as sns\n",
    "mat = confusion_matrix(y_test, y_pred)\n",
    "sns.heatmap(mat.T, square=True, annot=True, fmt='d', cbar=False)\n",
    "plt.xlabel('true label')\n",
    "plt.ylabel('predicted label');"
   ]
  },
  {
   "cell_type": "code",
   "execution_count": 78,
   "id": "02e95573",
   "metadata": {},
   "outputs": [
    {
     "data": {
      "text/plain": [
       "0.687024882554938"
      ]
     },
     "execution_count": 78,
     "metadata": {},
     "output_type": "execute_result"
    }
   ],
   "source": [
    "precision = precision_score(y_test, y_pred, average = 'weighted')\n",
    "precision"
   ]
  },
  {
   "cell_type": "code",
   "execution_count": 79,
   "id": "780ad311",
   "metadata": {},
   "outputs": [
    {
     "data": {
      "text/plain": [
       "0.6984597156398105"
      ]
     },
     "execution_count": 79,
     "metadata": {},
     "output_type": "execute_result"
    }
   ],
   "source": [
    "recall = recall_score(y_test, y_pred, average = 'weighted')\n",
    "recall"
   ]
  },
  {
   "cell_type": "code",
   "execution_count": 80,
   "id": "7be12b89",
   "metadata": {},
   "outputs": [
    {
     "data": {
      "text/plain": [
       "0.6827339518436125"
      ]
     },
     "execution_count": 80,
     "metadata": {},
     "output_type": "execute_result"
    }
   ],
   "source": [
    "f1score = f1_score(y_test, y_pred, average= 'weighted')\n",
    "f1score"
   ]
  },
  {
   "cell_type": "code",
   "execution_count": 81,
   "id": "1385836f",
   "metadata": {},
   "outputs": [],
   "source": [
    "new_songs = '''\n",
    "어느새 빗물이 내 발목에 고이고\n",
    "참았던 눈물이 내 눈가에 고이고\n",
    "I cry\n",
    "어딜 가도 떠있는 내 작은 먹구름\n",
    "까치발 딛고 잡아보려고 해도\n",
    "키가 닿지 않아 항상 손끝 위에\n",
    "어느새 빗물이 내 발목에 고이고\n",
    "참았던 눈물이 내 눈가에 고이고\n",
    "I cry\n",
    "그대는 내 머리 위에 우산\n",
    "어깨 위에 차가운 비 내리는 밤\n",
    "내 곁에 그대가 습관이 돼버린 나\n",
    "난 그대 없이는 안돼요\n",
    "alone in the rain\n",
    "어딜 가도 내 뒤를 쫓는 나만의 먹구름\n",
    "창문을 닫고 끝내 눈을 감아도\n",
    "곧 나를 깨우는 차가운 한방울\n",
    "어느새 빗물이 내 발목에 고이고\n",
    "참았던 눈물이 내 눈가에 고이고\n",
    "I cry\n",
    "그대는 내 머리 위에 우산\n",
    "어깨 위에 차가운 비 내리는 밤\n",
    "내 곁에 그대가 습관이 돼버린 나\n",
    "난 그대 없이는 안돼요\n",
    "alone in the rain\n",
    "나의 곁에 그대가 없기에\n",
    "내 창밖에 우산을 들고 기다리던 그대\n",
    "I cry\n",
    "그대는 내 머리 위에 우산\n",
    "어깨 위에 차가운 비 내리는 밤\n",
    "내 곁에 그대가 습관이 돼버린 나\n",
    "난 그대 없이는 안돼요\n",
    "I need you back in my life\n",
    "그대는 내 머리 위에 우산\n",
    "어깨 위에 차가운 비 내리는 밤\n",
    "내 곁에 그대가 없는 반쪽의 세상\n",
    "그댄 나 없이는 안돼요\n",
    "'''"
   ]
  },
  {
   "cell_type": "code",
   "execution_count": 84,
   "id": "ad3a4be4",
   "metadata": {},
   "outputs": [
    {
     "data": {
      "text/plain": [
       "array([0], dtype=int64)"
      ]
     },
     "execution_count": 84,
     "metadata": {},
     "output_type": "execute_result"
    }
   ],
   "source": [
    "import re\n",
    "new_songs = re.sub(r'[^ㄱ-ㅎㅏ-ㅣ가-힣 ]','', new_songs)\n",
    "new_song_token = okt.morphs(new_songs) # 토큰화\n",
    "new_encoded = tokenizer.texts_to_sequences([new_song_token]) # 인코딩\n",
    "new_pad = pad_sequences(new_encoded, maxlen = 700) # 패딩\n",
    "new_pred = np.argmax(loaded_model.predict(new_pad), axis=-1) # 감정 분류\n",
    "new_pred"
   ]
  },
  {
   "cell_type": "code",
   "execution_count": 85,
   "id": "38a6157b",
   "metadata": {},
   "outputs": [
    {
     "data": {
      "text/plain": [
       "array([[0.9217256 , 0.04844766, 0.01409812, 0.01572868]], dtype=float32)"
      ]
     },
     "execution_count": 85,
     "metadata": {},
     "output_type": "execute_result"
    }
   ],
   "source": [
    "new_pred = loaded_model.predict(new_pad)\n",
    "new_pred"
   ]
  }
 ],
 "metadata": {
  "kernelspec": {
   "display_name": "Python 3 (ipykernel)",
   "language": "python",
   "name": "python3"
  },
  "language_info": {
   "codemirror_mode": {
    "name": "ipython",
    "version": 3
   },
   "file_extension": ".py",
   "mimetype": "text/x-python",
   "name": "python",
   "nbconvert_exporter": "python",
   "pygments_lexer": "ipython3",
   "version": "3.8.12"
  }
 },
 "nbformat": 4,
 "nbformat_minor": 5
}
