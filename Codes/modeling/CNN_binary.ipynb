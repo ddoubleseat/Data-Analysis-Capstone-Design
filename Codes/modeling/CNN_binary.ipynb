{
 "cells": [
  {
   "cell_type": "code",
   "execution_count": 1,
   "id": "5eaae20d",
   "metadata": {},
   "outputs": [],
   "source": [
    "import pandas as pd\n",
    "train_df = pd.read_csv('train_dataset6.csv')\n",
    "X_train_data = train_df.iloc[:, 1].values\n",
    "y_train = train_df.iloc[:, 2].values"
   ]
  },
  {
   "cell_type": "code",
   "execution_count": 2,
   "id": "f2ff01c6",
   "metadata": {},
   "outputs": [],
   "source": [
    "val_df = pd.read_csv('val_dataset6.csv')\n",
    "X_val_data = val_df.iloc[:, 1].values\n",
    "y_val = val_df.iloc[:, 2].values"
   ]
  },
  {
   "cell_type": "code",
   "execution_count": 3,
   "id": "963e0bbe",
   "metadata": {},
   "outputs": [],
   "source": [
    "test_df = pd.read_csv('test_dataset6.csv')\n",
    "X_test_data = test_df.iloc[:, 1].values\n",
    "y_test = test_df.iloc[:, 2].values"
   ]
  },
  {
   "cell_type": "code",
   "execution_count": 4,
   "id": "9fa2f3e4",
   "metadata": {},
   "outputs": [
    {
     "name": "stdout",
     "output_type": "stream",
     "text": [
      "[4191 1684]\n",
      "[593 238]\n",
      "[1204  484]\n"
     ]
    }
   ],
   "source": [
    "import numpy as np\n",
    "print(np.bincount(y_train))\n",
    "print(np.bincount(y_val))\n",
    "print(np.bincount(y_test))"
   ]
  },
  {
   "cell_type": "code",
   "execution_count": 5,
   "id": "6c3322c3",
   "metadata": {},
   "outputs": [],
   "source": [
    "from konlpy.tag import Okt\n",
    "from tqdm import tqdm"
   ]
  },
  {
   "cell_type": "code",
   "execution_count": 6,
   "id": "22f1dcb5",
   "metadata": {},
   "outputs": [],
   "source": [
    "okt = Okt()"
   ]
  },
  {
   "cell_type": "code",
   "execution_count": 7,
   "id": "e8d1dc70",
   "metadata": {},
   "outputs": [
    {
     "name": "stderr",
     "output_type": "stream",
     "text": [
      "100%|██████████████████████████████████████████████████████████████████████████████| 5875/5875 [03:57<00:00, 24.69it/s]\n"
     ]
    }
   ],
   "source": [
    "X_train = []\n",
    "for sentence in tqdm(X_train_data):\n",
    "    tokenized_sentence = okt.morphs(sentence, stem=True) # 토큰화\n",
    "    X_train.append(tokenized_sentence)"
   ]
  },
  {
   "cell_type": "code",
   "execution_count": 8,
   "id": "b7b8ac63",
   "metadata": {},
   "outputs": [
    {
     "name": "stderr",
     "output_type": "stream",
     "text": [
      "100%|████████████████████████████████████████████████████████████████████████████████| 831/831 [00:32<00:00, 25.73it/s]\n"
     ]
    }
   ],
   "source": [
    "X_val = []\n",
    "for sentence in tqdm(X_val_data):\n",
    "    tokenized_sentence = okt.morphs(sentence, stem=True) # 토큰화\n",
    "    X_val.append(tokenized_sentence)"
   ]
  },
  {
   "cell_type": "code",
   "execution_count": 9,
   "id": "1fb77cbc",
   "metadata": {},
   "outputs": [
    {
     "name": "stderr",
     "output_type": "stream",
     "text": [
      "100%|██████████████████████████████████████████████████████████████████████████████| 1688/1688 [01:05<00:00, 25.82it/s]\n"
     ]
    }
   ],
   "source": [
    "X_test = []\n",
    "for sentence in tqdm(X_test_data):\n",
    "    tokenized_sentence = okt.morphs(sentence, stem=True) # 토큰화\n",
    "    X_test.append(tokenized_sentence)"
   ]
  },
  {
   "cell_type": "code",
   "execution_count": 10,
   "id": "a31b9e16",
   "metadata": {},
   "outputs": [],
   "source": [
    "from tensorflow.keras.preprocessing.text import Tokenizer\n",
    "from tensorflow.keras.preprocessing.sequence import pad_sequences"
   ]
  },
  {
   "cell_type": "code",
   "execution_count": 11,
   "id": "1c3adbf0",
   "metadata": {},
   "outputs": [],
   "source": [
    "tokenizer = Tokenizer()\n",
    "tokenizer.fit_on_texts(X_train)\n",
    "tokenizer.fit_on_texts(X_val)\n",
    "tokenizer.fit_on_texts(X_test)"
   ]
  },
  {
   "cell_type": "code",
   "execution_count": 12,
   "id": "0d50a83b",
   "metadata": {},
   "outputs": [],
   "source": [
    "X_train = tokenizer.texts_to_sequences(X_train)\n",
    "X_val = tokenizer.texts_to_sequences(X_val)\n",
    "X_test = tokenizer.texts_to_sequences(X_test)"
   ]
  },
  {
   "cell_type": "code",
   "execution_count": 13,
   "id": "b225a47e",
   "metadata": {},
   "outputs": [
    {
     "data": {
      "text/plain": [
       "18256"
      ]
     },
     "execution_count": 13,
     "metadata": {},
     "output_type": "execute_result"
    }
   ],
   "source": [
    "vocab_size = len(tokenizer.word_index)+1 # 단어의 수\n",
    "vocab_size"
   ]
  },
  {
   "cell_type": "code",
   "execution_count": 14,
   "id": "d9b52a6f",
   "metadata": {},
   "outputs": [
    {
     "name": "stdout",
     "output_type": "stream",
     "text": [
      "최대 길이 : 3058\n",
      "평균 길이 : 207.91131914893617\n"
     ]
    }
   ],
   "source": [
    "print('최대 길이 :',max(len(review) for review in X_train))\n",
    "print('평균 길이 :',sum(map(len, X_train))/len(X_train))"
   ]
  },
  {
   "cell_type": "code",
   "execution_count": 15,
   "id": "103275b2",
   "metadata": {},
   "outputs": [
    {
     "name": "stdout",
     "output_type": "stream",
     "text": [
      "최대 길이 : 892\n",
      "평균 길이 : 202.12274368231047\n"
     ]
    }
   ],
   "source": [
    "print('최대 길이 :',max(len(review) for review in X_val))\n",
    "print('평균 길이 :',sum(map(len, X_val))/len(X_val))"
   ]
  },
  {
   "cell_type": "code",
   "execution_count": 16,
   "id": "0762b45c",
   "metadata": {},
   "outputs": [
    {
     "name": "stdout",
     "output_type": "stream",
     "text": [
      "최대 길이 : 781\n",
      "평균 길이 : 203.82938388625593\n"
     ]
    }
   ],
   "source": [
    "print('최대 길이 :',max(len(review) for review in X_test))\n",
    "print('평균 길이 :',sum(map(len, X_test))/len(X_test))"
   ]
  },
  {
   "cell_type": "code",
   "execution_count": 17,
   "id": "09ddcb32",
   "metadata": {},
   "outputs": [],
   "source": [
    "X_train = pad_sequences(X_train, maxlen=800)\n",
    "X_val = pad_sequences(X_val, maxlen=800)\n",
    "X_test = pad_sequences(X_test, maxlen=800)"
   ]
  },
  {
   "cell_type": "code",
   "execution_count": 18,
   "id": "cf442120",
   "metadata": {},
   "outputs": [
    {
     "name": "stdout",
     "output_type": "stream",
     "text": [
      "Epoch 1/20\n",
      "184/184 [==============================] - ETA: 0s - loss: 0.5956 - acc: 0.7115\n",
      "Epoch 00001: val_acc improved from -inf to 0.71360, saving model to best_model.h5\n",
      "184/184 [==============================] - 73s 397ms/step - loss: 0.5956 - acc: 0.7115 - val_loss: 0.5668 - val_acc: 0.7136\n",
      "Epoch 2/20\n",
      "184/184 [==============================] - ETA: 0s - loss: 0.5104 - acc: 0.7503\n",
      "Epoch 00002: val_acc improved from 0.71360 to 0.80024, saving model to best_model.h5\n",
      "184/184 [==============================] - 66s 357ms/step - loss: 0.5104 - acc: 0.7503 - val_loss: 0.4325 - val_acc: 0.8002\n",
      "Epoch 3/20\n",
      "184/184 [==============================] - ETA: 0s - loss: 0.3380 - acc: 0.8572\n",
      "Epoch 00003: val_acc improved from 0.80024 to 0.82070, saving model to best_model.h5\n",
      "184/184 [==============================] - 63s 344ms/step - loss: 0.3380 - acc: 0.8572 - val_loss: 0.4150 - val_acc: 0.8207\n",
      "Epoch 4/20\n",
      "184/184 [==============================] - ETA: 0s - loss: 0.2007 - acc: 0.9236\n",
      "Epoch 00004: val_acc improved from 0.82070 to 0.83273, saving model to best_model.h5\n",
      "184/184 [==============================] - 65s 353ms/step - loss: 0.2007 - acc: 0.9236 - val_loss: 0.4284 - val_acc: 0.8327\n",
      "Epoch 5/20\n",
      "184/184 [==============================] - ETA: 0s - loss: 0.1198 - acc: 0.9610\n",
      "Epoch 00005: val_acc improved from 0.83273 to 0.83634, saving model to best_model.h5\n",
      "184/184 [==============================] - 67s 364ms/step - loss: 0.1198 - acc: 0.9610 - val_loss: 0.4418 - val_acc: 0.8363\n",
      "Epoch 6/20\n",
      "184/184 [==============================] - ETA: 0s - loss: 0.0829 - acc: 0.9750\n",
      "Epoch 00006: val_acc did not improve from 0.83634\n",
      "184/184 [==============================] - 68s 370ms/step - loss: 0.0829 - acc: 0.9750 - val_loss: 0.4773 - val_acc: 0.8351\n",
      "Epoch 7/20\n",
      "184/184 [==============================] - ETA: 0s - loss: 0.0561 - acc: 0.9852\n",
      "Epoch 00007: val_acc did not improve from 0.83634\n",
      "184/184 [==============================] - 66s 359ms/step - loss: 0.0561 - acc: 0.9852 - val_loss: 0.4930 - val_acc: 0.8315\n",
      "Epoch 8/20\n",
      "184/184 [==============================] - ETA: 0s - loss: 0.0490 - acc: 0.9888\n",
      "Epoch 00008: val_acc did not improve from 0.83634\n",
      "184/184 [==============================] - 66s 358ms/step - loss: 0.0490 - acc: 0.9888 - val_loss: 0.5416 - val_acc: 0.8339\n",
      "Epoch 00008: early stopping\n"
     ]
    }
   ],
   "source": [
    "from tensorflow.keras.models import Sequential\n",
    "from tensorflow.keras.layers import Embedding, Dropout, Conv1D, GlobalMaxPooling1D, Dense\n",
    "from tensorflow.keras.callbacks import EarlyStopping, ModelCheckpoint\n",
    "from tensorflow.keras.models import load_model\n",
    "\n",
    "embedding_dim = 256 # 임베딩 벡터의 차원\n",
    "dropout_ratio = 0.5 # 드롭아웃 비율\n",
    "num_filters = 10 # 커널의 수\n",
    "kernel_size = 3 # 커널의 크기\n",
    "hidden_units = 128 # 뉴런의 수\n",
    "\n",
    "model = Sequential()\n",
    "model.add(Embedding(vocab_size, embedding_dim))\n",
    "model.add(Dropout(dropout_ratio))\n",
    "model.add(Conv1D(num_filters, kernel_size, padding='valid', activation='relu'))\n",
    "model.add(GlobalMaxPooling1D())\n",
    "model.add(Dense(hidden_units, activation='relu'))\n",
    "model.add(Dropout(dropout_ratio))\n",
    "model.add(Dense(1, activation='sigmoid'))\n",
    "\n",
    "es = EarlyStopping(monitor='val_loss', mode='min', verbose=1, patience=5)\n",
    "mc = ModelCheckpoint('binary_model.h5', monitor='val_acc', mode='max', verbose=1, save_best_only=True)\n",
    "\n",
    "model.compile(optimizer='adam', loss='binary_crossentropy', metrics=['acc'])\n",
    "history = model.fit(X_train, y_train, epochs=20, validation_data=(X_val, y_val), callbacks=[es, mc])"
   ]
  },
  {
   "cell_type": "code",
   "execution_count": 27,
   "id": "d73c3dbf",
   "metadata": {},
   "outputs": [
    {
     "data": {
      "image/png": "[encoded data removed]",
      "text/plain": [
       "<Figure size 576x576 with 2 Axes>"
      ]
     },
     "metadata": {
      "needs_background": "light"
     },
     "output_type": "display_data"
    }
   ],
   "source": [
    "import matplotlib.pyplot as plt\n",
    "\n",
    "acc = history.history['acc']\n",
    "val_acc = history.history['val_acc']\n",
    "\n",
    "loss = history.history['loss']\n",
    "val_loss = history.history['val_loss']\n",
    "\n",
    "plt.figure(figsize=(8, 8))\n",
    "plt.subplot(2, 1, 1)\n",
    "plt.plot(acc, label='Training Accuracy')\n",
    "plt.plot(val_acc, label='Validation Accuracy')\n",
    "plt.legend(loc='lower right')\n",
    "plt.ylabel('Accuracy')\n",
    "plt.ylim([min(plt.ylim()),1])\n",
    "plt.title('Training and Validation Accuracy')\n",
    "\n",
    "plt.subplot(2, 1, 2)\n",
    "plt.plot(loss, label='Training Loss')\n",
    "plt.plot(val_loss, label='Validation Loss')\n",
    "plt.legend(loc='upper right')\n",
    "plt.ylabel('Cross Entropy')\n",
    "plt.ylim([0,1.0])\n",
    "plt.title('Training and Validation Loss')\n",
    "plt.xlabel('epoch')\n",
    "plt.show()\n"
   ]
  },
  {
   "cell_type": "code",
   "execution_count": 19,
   "id": "f7d87979",
   "metadata": {},
   "outputs": [
    {
     "name": "stdout",
     "output_type": "stream",
     "text": [
      "53/53 [==============================] - 8s 160ms/step - loss: 0.4375 - acc: 0.8602\n",
      "\n",
      " 테스트 정확도: 0.8602\n"
     ]
    }
   ],
   "source": [
    "loaded_model = load_model('binary_model.h5')\n",
    "print(\"\\n 테스트 정확도: %.4f\" % (loaded_model.evaluate(X_test, y_test)[1]))"
   ]
  },
  {
   "cell_type": "code",
   "execution_count": 28,
   "id": "1cb68386",
   "metadata": {},
   "outputs": [
    {
     "name": "stdout",
     "output_type": "stream",
     "text": [
      "Model: \"sequential_2\"\n",
      "_________________________________________________________________\n",
      "Layer (type)                 Output Shape              Param #   \n",
      "=================================================================\n",
      "embedding_2 (Embedding)      (None, None, 256)         4673536   \n",
      "_________________________________________________________________\n",
      "dropout_4 (Dropout)          (None, None, 256)         0         \n",
      "_________________________________________________________________\n",
      "conv1d_2 (Conv1D)            (None, None, 256)         196864    \n",
      "_________________________________________________________________\n",
      "global_max_pooling1d_2 (Glob (None, 256)               0         \n",
      "_________________________________________________________________\n",
      "dense_4 (Dense)              (None, 128)               32896     \n",
      "_________________________________________________________________\n",
      "dropout_5 (Dropout)          (None, 128)               0         \n",
      "_________________________________________________________________\n",
      "dense_5 (Dense)              (None, 1)                 129       \n",
      "=================================================================\n",
      "Total params: 4,903,425\n",
      "Trainable params: 4,903,425\n",
      "Non-trainable params: 0\n",
      "_________________________________________________________________\n"
     ]
    }
   ],
   "source": [
    "loaded_model.summary()"
   ]
  },
  {
   "cell_type": "code",
   "execution_count": 29,
   "id": "aead56b6",
   "metadata": {},
   "outputs": [],
   "source": [
    "y_pred = loaded_model.predict(X_test) >=0.5"
   ]
  },
  {
   "cell_type": "code",
   "execution_count": 23,
   "id": "e589b272",
   "metadata": {},
   "outputs": [
    {
     "data": {
      "text/plain": [
       "array([[1114,   90],\n",
       "       [ 146,  338]], dtype=int64)"
      ]
     },
     "execution_count": 23,
     "metadata": {},
     "output_type": "execute_result"
    }
   ],
   "source": [
    "from sklearn.metrics import precision_score, recall_score, confusion_matrix, f1_score\n",
    "confusion_matrix(y_test, y_pred)"
   ]
  },
  {
   "cell_type": "code",
   "execution_count": 30,
   "id": "26da929d",
   "metadata": {},
   "outputs": [
    {
     "data": {
      "image/png": "[encoded data removed]",
      "text/plain": [
       "<Figure size 432x288 with 1 Axes>"
      ]
     },
     "metadata": {
      "needs_background": "light"
     },
     "output_type": "display_data"
    }
   ],
   "source": [
    "from sklearn.metrics import confusion_matrix\n",
    "import seaborn as sns\n",
    "mat = confusion_matrix(y_test, y_pred)\n",
    "sns.heatmap(mat.T, square=True, annot=True, fmt='d', cbar=False)\n",
    "plt.xlabel('true label')\n",
    "plt.ylabel('predicted label');"
   ]
  },
  {
   "cell_type": "code",
   "execution_count": 24,
   "id": "02e95573",
   "metadata": {},
   "outputs": [
    {
     "data": {
      "text/plain": [
       "0.7897196261682243"
      ]
     },
     "execution_count": 24,
     "metadata": {},
     "output_type": "execute_result"
    }
   ],
   "source": [
    "precision = precision_score(y_test, y_pred)\n",
    "precision"
   ]
  },
  {
   "cell_type": "code",
   "execution_count": 25,
   "id": "780ad311",
   "metadata": {},
   "outputs": [
    {
     "data": {
      "text/plain": [
       "0.8601895734597157"
      ]
     },
     "execution_count": 25,
     "metadata": {},
     "output_type": "execute_result"
    }
   ],
   "source": [
    "recall = recall_score(y_test, y_pred, average = 'weighted')\n",
    "recall"
   ]
  },
  {
   "cell_type": "code",
   "execution_count": 26,
   "id": "7be12b89",
   "metadata": {},
   "outputs": [
    {
     "data": {
      "text/plain": [
       "0.8574859029305274"
      ]
     },
     "execution_count": 26,
     "metadata": {},
     "output_type": "execute_result"
    }
   ],
   "source": [
    "f1score = f1_score(y_test, y_pred, average= 'weighted')\n",
    "f1score"
   ]
  },
  {
   "cell_type": "code",
   "execution_count": 31,
   "id": "6d4b771b",
   "metadata": {},
   "outputs": [],
   "source": [
    "new_songs = '''\n",
    "어느새 빗물이 내 발목에 고이고\n",
    "참았던 눈물이 내 눈가에 고이고\n",
    "I cry\n",
    "어딜 가도 떠있는 내 작은 먹구름\n",
    "까치발 딛고 잡아보려고 해도\n",
    "키가 닿지 않아 항상 손끝 위에\n",
    "어느새 빗물이 내 발목에 고이고\n",
    "참았던 눈물이 내 눈가에 고이고\n",
    "I cry\n",
    "그대는 내 머리 위에 우산\n",
    "어깨 위에 차가운 비 내리는 밤\n",
    "내 곁에 그대가 습관이 돼버린 나\n",
    "난 그대 없이는 안돼요\n",
    "alone in the rain\n",
    "어딜 가도 내 뒤를 쫓는 나만의 먹구름\n",
    "창문을 닫고 끝내 눈을 감아도\n",
    "곧 나를 깨우는 차가운 한방울\n",
    "어느새 빗물이 내 발목에 고이고\n",
    "참았던 눈물이 내 눈가에 고이고\n",
    "I cry\n",
    "그대는 내 머리 위에 우산\n",
    "어깨 위에 차가운 비 내리는 밤\n",
    "내 곁에 그대가 습관이 돼버린 나\n",
    "난 그대 없이는 안돼요\n",
    "alone in the rain\n",
    "나의 곁에 그대가 없기에\n",
    "내 창밖에 우산을 들고 기다리던 그대\n",
    "I cry\n",
    "그대는 내 머리 위에 우산\n",
    "어깨 위에 차가운 비 내리는 밤\n",
    "내 곁에 그대가 습관이 돼버린 나\n",
    "난 그대 없이는 안돼요\n",
    "I need you back in my life\n",
    "그대는 내 머리 위에 우산\n",
    "어깨 위에 차가운 비 내리는 밤\n",
    "내 곁에 그대가 없는 반쪽의 세상\n",
    "그댄 나 없이는 안돼요\n",
    "'''"
   ]
  },
  {
   "cell_type": "code",
   "execution_count": 32,
   "id": "0cd5c966",
   "metadata": {},
   "outputs": [
    {
     "data": {
      "text/plain": [
       "array([0], dtype=int64)"
      ]
     },
     "execution_count": 32,
     "metadata": {},
     "output_type": "execute_result"
    }
   ],
   "source": [
    "import re\n",
    "new_songs = re.sub(r'[^ㄱ-ㅎㅏ-ㅣ가-힣 ]','', new_songs)\n",
    "new_song_token = okt.morphs(new_songs) # 토큰화\n",
    "new_encoded = tokenizer.texts_to_sequences([new_song_token]) # 인코딩\n",
    "new_pad = pad_sequences(new_encoded, maxlen = 700) # 패딩\n",
    "new_pred = np.argmax(loaded_model.predict(new_pad), axis=-1) # 감정 분류\n",
    "new_pred"
   ]
  }
 ],
 "metadata": {
  "kernelspec": {
   "display_name": "Python 3 (ipykernel)",
   "language": "python",
   "name": "python3"
  },
  "language_info": {
   "codemirror_mode": {
    "name": "ipython",
    "version": 3
   },
   "file_extension": ".py",
   "mimetype": "text/x-python",
   "name": "python",
   "nbconvert_exporter": "python",
   "pygments_lexer": "ipython3",
   "version": "3.8.12"
  }
 },
 "nbformat": 4,
 "nbformat_minor": 5
}
